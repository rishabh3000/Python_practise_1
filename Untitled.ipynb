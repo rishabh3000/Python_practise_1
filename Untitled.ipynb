{
 "cells": [
  {
   "cell_type": "code",
   "execution_count": 1,
   "metadata": {},
   "outputs": [
    {
     "name": "stdout",
     "output_type": "stream",
     "text": [
      "46 student\n",
      "46 teachers\n",
      "46 clerks\n",
      "13 student\n",
      "13 teachers\n",
      "13 clerks\n"
     ]
    }
   ],
   "source": [
    "total=[46,13]\n",
    "pepole=['student','teachers','clerks']\n",
    "for x in total:\n",
    "    for y in pepole:\n",
    "        print(x,y)"
   ]
  },
  {
   "cell_type": "code",
   "execution_count": 2,
   "metadata": {},
   "outputs": [
    {
     "name": "stdout",
     "output_type": "stream",
     "text": [
      "1\n",
      "71\n",
      "13\n",
      "2\n"
     ]
    }
   ],
   "source": [
    "\n",
    "for i in [1,71,13,2,81,15]:\n",
    "    print(i)\n",
    "    if(i%2)==0:\n",
    "        break"
   ]
  },
  {
   "cell_type": "code",
   "execution_count": 3,
   "metadata": {},
   "outputs": [
    {
     "name": "stdout",
     "output_type": "stream",
     "text": [
      "bubble\n"
     ]
    }
   ],
   "source": [
    "a='bubble'\n",
    "for i in range(len(a)):\n",
    "    a[i].upper()\n",
    "    \n",
    "print(a)"
   ]
  },
  {
   "cell_type": "code",
   "execution_count": 4,
   "metadata": {},
   "outputs": [
    {
     "data": {
      "text/plain": [
       "'t'"
      ]
     },
     "execution_count": 4,
     "metadata": {},
     "output_type": "execute_result"
    }
   ],
   "source": [
    "max(\"great learning\")"
   ]
  },
  {
   "cell_type": "code",
   "execution_count": 5,
   "metadata": {},
   "outputs": [
    {
     "name": "stdout",
     "output_type": "stream",
     "text": [
      "True\n"
     ]
    }
   ],
   "source": [
    "print('\\t'.isspace())"
   ]
  },
  {
   "cell_type": "code",
   "execution_count": 6,
   "metadata": {},
   "outputs": [
    {
     "name": "stdout",
     "output_type": "stream",
     "text": [
      "hello.world\n"
     ]
    }
   ],
   "source": [
    "print(\"hello.world\".center(0))"
   ]
  },
  {
   "cell_type": "code",
   "execution_count": 7,
   "metadata": {},
   "outputs": [
    {
     "name": "stdout",
     "output_type": "stream",
     "text": [
      "False\n"
     ]
    }
   ],
   "source": [
    "print('@#$%'.islower())"
   ]
  },
  {
   "cell_type": "code",
   "execution_count": 8,
   "metadata": {},
   "outputs": [
    {
     "data": {
      "text/plain": [
       "78"
      ]
     },
     "execution_count": 8,
     "metadata": {},
     "output_type": "execute_result"
    }
   ],
   "source": [
    "l1=[7,8,23,78,35,1]\n",
    "max(l1)"
   ]
  },
  {
   "cell_type": "code",
   "execution_count": 9,
   "metadata": {},
   "outputs": [
    {
     "name": "stdout",
     "output_type": "stream",
     "text": [
      "string\n"
     ]
    }
   ],
   "source": [
    "a='string'\n",
    "print(a.replace(\"rg\",\"12\"))"
   ]
  },
  {
   "cell_type": "code",
   "execution_count": 10,
   "metadata": {},
   "outputs": [
    {
     "name": "stdout",
     "output_type": "stream",
     "text": [
      "1 0\n"
     ]
    }
   ],
   "source": [
    "class Test:\n",
    "    def __init__(self):\n",
    "        self.x=1\n",
    "class Derived_Test(Test):\n",
    "    def __init__(self):\n",
    "        Test.__init__(self)\n",
    "        self.y=0\n",
    "\n",
    "def main():\n",
    "    b= Derived_Test()\n",
    "    print(b.x,b.y)\n",
    "main()"
   ]
  },
  {
   "cell_type": "code",
   "execution_count": 11,
   "metadata": {},
   "outputs": [
    {
     "name": "stdout",
     "output_type": "stream",
     "text": [
      "[21, 12, 1, 2, 7, 55]\n"
     ]
    }
   ],
   "source": [
    "alpha=[21,32,12,1,2,7,55]\n",
    "alpha.pop(1)\n",
    "print(alpha)"
   ]
  },
  {
   "cell_type": "code",
   "execution_count": 12,
   "metadata": {},
   "outputs": [
    {
     "name": "stdout",
     "output_type": "stream",
     "text": [
      "my,name,is,x,"
     ]
    }
   ],
   "source": [
    "string=\"my name is x\"\n",
    "for i in string.split():\n",
    "    print(i,end=\",\")"
   ]
  },
  {
   "cell_type": "code",
   "execution_count": 13,
   "metadata": {},
   "outputs": [
    {
     "name": "stdout",
     "output_type": "stream",
     "text": [
      "[25, 10]\n"
     ]
    }
   ],
   "source": [
    "a=[5,10,15,25]\n",
    "print(a[::-2])"
   ]
  },
  {
   "cell_type": "code",
   "execution_count": 14,
   "metadata": {},
   "outputs": [
    {
     "name": "stdout",
     "output_type": "stream",
     "text": [
      "Apple\n",
      "ApplePie\n",
      "Mango\n",
      "MangoPie\n",
      "Pear\n",
      "PearPie\n",
      "['Apple', 'Mango', 'Pear']\n"
     ]
    }
   ],
   "source": [
    "fruits=['Apple','Mango','Pear']\n",
    "for fruit in fruits:\n",
    "    print(fruit)\n",
    "    print(fruit + 'Pie')\n",
    "    \n",
    "print(fruits)"
   ]
  },
  {
   "cell_type": "code",
   "execution_count": null,
   "metadata": {},
   "outputs": [],
   "source": [
    "student_heights=input('Input a list of student heights').split()\n",
    "for i in range(0,len(student_heights)):\n",
    "    student_heights[i]=int(student_heights[i])\n",
    "    \n",
    "print(student_heights)\n",
    "print(sum(student_heights))\n",
    "print(len(students_heights ))"
   ]
  },
  {
   "cell_type": "code",
   "execution_count": null,
   "metadata": {},
   "outputs": [],
   "source": [
    "total_height=sum(student_heights)\n",
    "no_of_students=len(student_heights)\n",
    "average_height=round(total_heights/no_of_students)\n",
    "print(average_height)\n"
   ]
  },
  {
   "cell_type": "code",
   "execution_count": null,
   "metadata": {},
   "outputs": [],
   "source": [
    "student_heights=input('Input a list of student heights').split()\n",
    "for i in range(0,len(student_heights)):\n",
    "    student_heights[i]=int(student_heights[i])\n",
    "    \n",
    "\n",
    "total_height=0\n",
    "for height in student_heights:\n",
    "    total_height+=height\n",
    "print(total_height)\n",
    "number_of_students=0\n",
    "for student in student_heights:\n",
    "    number_of_students+=1\n",
    "    \n",
    "print(number_of_students)\n",
    "no_of_students=len(student_heights)\n",
    "average_height=round(total_heights/no_of_students)\n",
    "print(average_height)\n"
   ]
  },
  {
   "cell_type": "code",
   "execution_count": null,
   "metadata": {},
   "outputs": [],
   "source": [
    " b "
   ]
  }
 ],
 "metadata": {
  "kernelspec": {
   "display_name": "Python 3",
   "language": "python",
   "name": "python3"
  },
  "language_info": {
   "codemirror_mode": {
    "name": "ipython",
    "version": 3
   },
   "file_extension": ".py",
   "mimetype": "text/x-python",
   "name": "python",
   "nbconvert_exporter": "python",
   "pygments_lexer": "ipython3",
   "version": "3.8.3"
  }
 },
 "nbformat": 4,
 "nbformat_minor": 4
}
